{
 "cells": [
  {
   "cell_type": "code",
   "execution_count": 1,
   "metadata": {},
   "outputs": [],
   "source": [
    "def editDis(s,t):\n",
    "    cache = {}\n",
    "    def recurse(m,n):\n",
    "        if (m,n) in cache:\n",
    "            return cache[(m,n)]\n",
    "        if m == 0:\n",
    "            result = n\n",
    "        elif n == 0:\n",
    "            result = m\n",
    "        elif s[m-1] == t[n-1]:\n",
    "            result = recurse(m-1, n-1)\n",
    "        else:\n",
    "            subCost = 1 + recurse(m-1, n-1)\n",
    "            insCost = 1 + recurse(m, n-1)\n",
    "            delCost = 1 + recurse(m-1, n)\n",
    "            result = min(subCost, insCost, delCost)\n",
    "        cache[(m,n)] = result\n",
    "        return result\n",
    "    return recurse(len(s), len(t))"
   ]
  },
  {
   "cell_type": "code",
   "execution_count": 6,
   "metadata": {},
   "outputs": [
    {
     "data": {
      "text/plain": [
       "2"
      ]
     },
     "execution_count": 6,
     "metadata": {},
     "output_type": "execute_result"
    }
   ],
   "source": [
    "editDis(\"cat102\",\"cat11\")"
   ]
  },
  {
   "cell_type": "code",
   "execution_count": null,
   "metadata": {},
   "outputs": [],
   "source": []
  }
 ],
 "metadata": {
  "kernelspec": {
   "display_name": "Python 3",
   "language": "python",
   "name": "python3"
  },
  "language_info": {
   "codemirror_mode": {
    "name": "ipython",
    "version": 3
   },
   "file_extension": ".py",
   "mimetype": "text/x-python",
   "name": "python",
   "nbconvert_exporter": "python",
   "pygments_lexer": "ipython3",
   "version": "3.7.2"
  }
 },
 "nbformat": 4,
 "nbformat_minor": 2
}
